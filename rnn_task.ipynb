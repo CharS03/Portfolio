{
 "cells": [
  {
   "cell_type": "markdown",
   "metadata": {
    "colab_type": "text",
    "id": "maINzqlPD1U7"
   },
   "source": [
    "# Using Keras to Build and Train Recurrent Neural Networks"
   ]
  },
  {
   "cell_type": "markdown",
   "metadata": {
    "colab_type": "text",
    "id": "Vd9vw6EID1VB"
   },
   "source": [
    "In this task, you will be developing a LSTM network using the Keras to solve a time-series prediction problem.\n",
    "\n",
    "As the name suggests, time-series is a collection of data points collected at constant time intervals. These are analysed to determine the long term trend so as to forecast the future or perform some other form of analysis. \n",
    "\n",
    "\n",
    "## Exercise\n",
    "\n",
    "The problem we are going to look at in this task is the International Airline Passengers prediction problem. For this problem we are given a year and a month we need to predict the number of international airline passengers in units of 1,000. In other words we need to answer the question, \"Given the number of passengers (in units of thousands) this month, what is the number of passengers next month?\". \n",
    "\n",
    "The data ranges from January 1949 to December 1960 with 144 observations.\n",
    "\n",
    "You are provided with the incomplete code below. You are required to complete the code in order for it to run correctly. \n",
    "\n",
    "\n",
    "---\n",
    "\n",
    "We first need to import all of the functions and classes we intend to use. We need to import NumPy for scientific computation, Matplotlib for plotting graphs, and Pandas to aide in loading and manipulating our datasets."
   ]
  },
  {
   "cell_type": "code",
   "execution_count": 14,
   "metadata": {
    "colab": {},
    "colab_type": "code",
    "id": "YfSd4kU9D1VF"
   },
   "outputs": [],
   "source": [
    "import tensorflow as tf\n",
    "from tensorflow import keras\n",
    "\n",
    "import numpy as np\n",
    "import matplotlib.pyplot as plt\n",
    "import pandas as pd\n",
    "import math\n",
    "\n",
    "from keras.utils import to_categorical\n",
    "from keras.models import Sequential\n",
    "from keras.layers import LSTM, Dense, Dropout\n",
    "\n",
    "from sklearn.preprocessing import MinMaxScaler\n",
    "from sklearn.metrics import mean_squared_error"
   ]
  },
  {
   "cell_type": "markdown",
   "metadata": {
    "colab_type": "text",
    "id": "KMKH3XSCD1VK"
   },
   "source": [
    "The next step is to load in our training dataset as a Pandas dataframe. We can then extract the NumPy array from the dataframe and convert the integer values to floating point values, which are more suitable for modeling with a neural network."
   ]
  },
  {
   "cell_type": "code",
   "execution_count": 9,
   "metadata": {
    "colab": {},
    "colab_type": "code",
    "id": "KU1lHLL4D1VM"
   },
   "outputs": [],
   "source": [
    "# Complete: load the dataset using Pandas (remember to find and download the international airlines passengers dataset)\n",
    "# Complete: extract the NumPy array from the dataframe\n",
    "# Complete: convert the integer values to floating point values\n",
    "# Complete: Use matplotlib to plot the whole dataset\n",
    "\n",
    "\n",
    "# load the dataset\n",
    "dataframe = pd.read_csv('airline-passengers.csv', usecols=[1], engine='python')\n",
    "dataset = dataframe.values\n",
    "dataset = dataset.astype('float32')"
   ]
  },
  {
   "cell_type": "markdown",
   "metadata": {
    "colab_type": "text",
    "id": "8NprbQq4D1VU"
   },
   "source": [
    "LSTMs are sensitive to the scale of the input data. It can be a good practice to rescale the data to the range of 0-to-1, also called normalising. In our case, we’ll use Scikit- Learn’s MinMaxScaler and scale our dataset to numbers between zero and one."
   ]
  },
  {
   "cell_type": "code",
   "execution_count": 10,
   "metadata": {
    "colab": {},
    "colab_type": "code",
    "id": "aMlLbw22D1VX",
    "outputId": "077c7b60-95b1-488e-ace9-17ad237c48ea"
   },
   "outputs": [],
   "source": [
    "scaler = MinMaxScaler(feature_range=(0, 1))\n",
    "dataset = scaler.fit_transform(dataset)"
   ]
  },
  {
   "cell_type": "markdown",
   "metadata": {
    "colab_type": "text",
    "id": "U0uQCuDeD1Vb"
   },
   "source": [
    "After we model our data and estimate the skill of our model on the training dataset, we need to get an idea of the skill of the model on new unseen data. With time series data, the sequence of values is important. A simple method that we can use is to split the ordered dataset into train and test datasets. The code below calculates the index of the split point and separates the data into the training datasets with 67% of the observations that we can use to train our model, leaving the remaining 33% for testing the model."
   ]
  },
  {
   "cell_type": "code",
   "execution_count": 15,
   "metadata": {
    "colab": {},
    "colab_type": "code",
    "id": "9ZpBEIAvD1Vd"
   },
   "outputs": [],
   "source": [
    "train_size = int(len(dataset) * 0.67)\n",
    "test_size = len(dataset) - train_size\n",
    "train, test = dataset[0:train_size,:], dataset[train_size:len(dataset),:]"
   ]
  },
  {
   "cell_type": "markdown",
   "metadata": {
    "colab_type": "text",
    "id": "HlOgFbeiD1Vm"
   },
   "source": [
    "Now we can define a function to create a new dataset, as described above.\n",
    "\n",
    "The function takes two arguments: the dataset, which is a NumPy array that we want to convert into a dataset, and the look_back, which is the number of previous time steps to use as input variables to predict the next time period — in this case defaulted to 1.\n",
    "\n",
    "This default will create a dataset where X is the number of passengers at a given time (t) and Y is the number of passengers at the next time (t + 1).\n"
   ]
  },
  {
   "cell_type": "code",
   "execution_count": 16,
   "metadata": {
    "colab": {},
    "colab_type": "code",
    "id": "epJhKfjZD1Vo"
   },
   "outputs": [],
   "source": [
    "# convert an array of values into a dataset matrix\n",
    "def create_dataset(dataset, look_back=1):\n",
    "    dataX, dataY = [], []\n",
    "    for i in range(len(dataset)-look_back-1):\n",
    "        a = dataset[i:(i+look_back), 0]\n",
    "        dataX.append(a)\n",
    "        dataY.append(dataset[i + look_back, 0])\n",
    "    return numpy.array(dataX), numpy.array(dataY)"
   ]
  },
  {
   "cell_type": "markdown",
   "metadata": {
    "colab_type": "text",
    "id": "ht2QEtHED1Vt"
   },
   "source": [
    "We can now use this function to prepare the train and test datasets for modeling."
   ]
  },
  {
   "cell_type": "code",
   "execution_count": 28,
   "metadata": {
    "colab": {},
    "colab_type": "code",
    "id": "X2IPlM61D1Vv"
   },
   "outputs": [],
   "source": [
    "# reshape into X=t and Y=t+1\n",
    "look_back = 1\n",
    "trainX, trainY = create_dataset(train, look_back)\n",
    "testX, testY = create_dataset(test, look_back)\n",
    "# Complete: use the create_dataset() function to prepare the train dataset\n",
    "# Complete: use the create_dataset() function to prepare the test dataset\n",
    "trainX = np.reshape(trainX, (trainX.shape[0], 1, trainX.shape[1]))\n",
    "testX = np.reshape(testX, (testX.shape[0], 1, testX.shape[1]))"
   ]
  },
  {
   "cell_type": "markdown",
   "metadata": {
    "colab_type": "text",
    "id": "54O9X3KtD1V0"
   },
   "source": [
    "The LSTM network expects the input data (X) to be provided with a specific array structure in the form of: [samples, time steps, features].\n",
    "\n",
    "Currently, our data is in the form: [samples, features] and we are framing the problem as one time step for each sample. We can transform the prepared train and test input data into the expected structure using numpy.reshape()."
   ]
  },
  {
   "cell_type": "code",
   "execution_count": 32,
   "metadata": {
    "colab": {},
    "colab_type": "code",
    "id": "MoyP9mamD1V1"
   },
   "outputs": [
    {
     "ename": "AttributeError",
     "evalue": "'numpy.ndarray' object has no attribute 'append'",
     "output_type": "error",
     "traceback": [
      "\u001b[1;31m---------------------------------------------------------------------------\u001b[0m",
      "\u001b[1;31mAttributeError\u001b[0m                            Traceback (most recent call last)",
      "\u001b[1;32mc:\\Users\\Charl\\Dropbox\\cs22010002647\\3- Machine Learning\\L3T17\\rnn_task copy.ipynb Cell 15\u001b[0m in \u001b[0;36m<cell line: 7>\u001b[1;34m()\u001b[0m\n\u001b[0;32m      <a href='vscode-notebook-cell:/c%3A/Users/Charl/Dropbox/cs22010002647/3-%20Machine%20Learning/L3T17/rnn_task%20copy.ipynb#X20sZmlsZQ%3D%3D?line=5'>6</a>\u001b[0m timesteps\u001b[39m=\u001b[39m\u001b[39m12\u001b[39m\n\u001b[0;32m      <a href='vscode-notebook-cell:/c%3A/Users/Charl/Dropbox/cs22010002647/3-%20Machine%20Learning/L3T17/rnn_task%20copy.ipynb#X20sZmlsZQ%3D%3D?line=6'>7</a>\u001b[0m \u001b[39mfor\u001b[39;00m i \u001b[39min\u001b[39;00m \u001b[39mrange\u001b[39m(\u001b[39mlen\u001b[39m(train)\u001b[39m-\u001b[39mtimesteps\u001b[39m+\u001b[39m\u001b[39m1\u001b[39m):\n\u001b[1;32m----> <a href='vscode-notebook-cell:/c%3A/Users/Charl/Dropbox/cs22010002647/3-%20Machine%20Learning/L3T17/rnn_task%20copy.ipynb#X20sZmlsZQ%3D%3D?line=7'>8</a>\u001b[0m     trainX\u001b[39m.\u001b[39;49mappend(train[i:(i\u001b[39m+\u001b[39mtimesteps),\u001b[39m0\u001b[39m])\n\u001b[0;32m      <a href='vscode-notebook-cell:/c%3A/Users/Charl/Dropbox/cs22010002647/3-%20Machine%20Learning/L3T17/rnn_task%20copy.ipynb#X20sZmlsZQ%3D%3D?line=8'>9</a>\u001b[0m     trainX\u001b[39m.\u001b[39mappend(train[i,\u001b[39m0\u001b[39m])\n\u001b[0;32m     <a href='vscode-notebook-cell:/c%3A/Users/Charl/Dropbox/cs22010002647/3-%20Machine%20Learning/L3T17/rnn_task%20copy.ipynb#X20sZmlsZQ%3D%3D?line=9'>10</a>\u001b[0m X_train,y_train\u001b[39m=\u001b[39mnp\u001b[39m.\u001b[39marray(train),np\u001b[39m.\u001b[39marray(test)\n",
      "\u001b[1;31mAttributeError\u001b[0m: 'numpy.ndarray' object has no attribute 'append'"
     ]
    }
   ],
   "source": [
    "# Complete: reshape the trian input (trainX) to be [samples, time steps, features]\n",
    "# Complete: reshape the test input (testX) to be [samples, time steps, features]\n",
    "trainX = np.reshape(trainX, (trainX.shape[0], 1, trainX.shape[1]))\n",
    "testX = np.reshape(testX, (testX.shape[0], 1, testX.shape[1]))\n",
    "\n",
    "timesteps=12\n",
    "for i in range(len(train)-timesteps+1):\n",
    "    trainX.append(train[i:(i+timesteps),0])\n",
    "    trainX.append(train[i,0])\n",
    "X_train,y_train=np.array(train),np.array(test)"
   ]
  },
  {
   "cell_type": "markdown",
   "metadata": {
    "colab_type": "text",
    "id": "7WkO51TnD1V3"
   },
   "source": [
    "We are now ready to design our LSTM network for this problem.\n",
    "\n",
    "The network has a visible layer with 1 input, a hidden layer with 4 LSTM blocks or neurons, and an output layer that makes a single value prediction. The sigmoid activation function is used for the LSTM blocks. "
   ]
  },
  {
   "cell_type": "code",
   "execution_count": 23,
   "metadata": {
    "colab": {},
    "colab_type": "code",
    "id": "60sMcBIqD1V5"
   },
   "outputs": [
    {
     "name": "stdout",
     "output_type": "stream",
     "text": [
      "Epoch 1/100\n",
      "94/94 - 2s - loss: 0.0357 - 2s/epoch - 19ms/step\n",
      "Epoch 2/100\n",
      "94/94 - 0s - loss: 0.0160 - 145ms/epoch - 2ms/step\n",
      "Epoch 3/100\n",
      "94/94 - 0s - loss: 0.0124 - 137ms/epoch - 1ms/step\n",
      "Epoch 4/100\n",
      "94/94 - 0s - loss: 0.0113 - 168ms/epoch - 2ms/step\n",
      "Epoch 5/100\n",
      "94/94 - 0s - loss: 0.0103 - 200ms/epoch - 2ms/step\n",
      "Epoch 6/100\n",
      "94/94 - 0s - loss: 0.0094 - 143ms/epoch - 2ms/step\n",
      "Epoch 7/100\n",
      "94/94 - 0s - loss: 0.0084 - 153ms/epoch - 2ms/step\n",
      "Epoch 8/100\n",
      "94/94 - 0s - loss: 0.0076 - 170ms/epoch - 2ms/step\n",
      "Epoch 9/100\n",
      "94/94 - 0s - loss: 0.0067 - 166ms/epoch - 2ms/step\n",
      "Epoch 10/100\n",
      "94/94 - 0s - loss: 0.0060 - 167ms/epoch - 2ms/step\n",
      "Epoch 11/100\n",
      "94/94 - 0s - loss: 0.0053 - 179ms/epoch - 2ms/step\n",
      "Epoch 12/100\n",
      "94/94 - 0s - loss: 0.0047 - 153ms/epoch - 2ms/step\n",
      "Epoch 13/100\n",
      "94/94 - 0s - loss: 0.0041 - 159ms/epoch - 2ms/step\n",
      "Epoch 14/100\n",
      "94/94 - 0s - loss: 0.0036 - 158ms/epoch - 2ms/step\n",
      "Epoch 15/100\n",
      "94/94 - 0s - loss: 0.0032 - 159ms/epoch - 2ms/step\n",
      "Epoch 16/100\n",
      "94/94 - 0s - loss: 0.0029 - 166ms/epoch - 2ms/step\n",
      "Epoch 17/100\n",
      "94/94 - 0s - loss: 0.0028 - 166ms/epoch - 2ms/step\n",
      "Epoch 18/100\n",
      "94/94 - 0s - loss: 0.0025 - 159ms/epoch - 2ms/step\n",
      "Epoch 19/100\n",
      "94/94 - 0s - loss: 0.0023 - 170ms/epoch - 2ms/step\n",
      "Epoch 20/100\n",
      "94/94 - 0s - loss: 0.0022 - 172ms/epoch - 2ms/step\n",
      "Epoch 21/100\n",
      "94/94 - 0s - loss: 0.0022 - 162ms/epoch - 2ms/step\n",
      "Epoch 22/100\n",
      "94/94 - 0s - loss: 0.0021 - 166ms/epoch - 2ms/step\n",
      "Epoch 23/100\n",
      "94/94 - 0s - loss: 0.0021 - 172ms/epoch - 2ms/step\n",
      "Epoch 24/100\n",
      "94/94 - 0s - loss: 0.0020 - 198ms/epoch - 2ms/step\n",
      "Epoch 25/100\n",
      "94/94 - 0s - loss: 0.0020 - 183ms/epoch - 2ms/step\n",
      "Epoch 26/100\n",
      "94/94 - 0s - loss: 0.0020 - 114ms/epoch - 1ms/step\n",
      "Epoch 27/100\n",
      "94/94 - 0s - loss: 0.0020 - 136ms/epoch - 1ms/step\n",
      "Epoch 28/100\n",
      "94/94 - 0s - loss: 0.0020 - 91ms/epoch - 971us/step\n",
      "Epoch 29/100\n",
      "94/94 - 0s - loss: 0.0021 - 92ms/epoch - 978us/step\n",
      "Epoch 30/100\n",
      "94/94 - 0s - loss: 0.0020 - 263ms/epoch - 3ms/step\n",
      "Epoch 31/100\n",
      "94/94 - 0s - loss: 0.0021 - 273ms/epoch - 3ms/step\n",
      "Epoch 32/100\n",
      "94/94 - 0s - loss: 0.0020 - 282ms/epoch - 3ms/step\n",
      "Epoch 33/100\n",
      "94/94 - 0s - loss: 0.0020 - 284ms/epoch - 3ms/step\n",
      "Epoch 34/100\n",
      "94/94 - 0s - loss: 0.0021 - 261ms/epoch - 3ms/step\n",
      "Epoch 35/100\n",
      "94/94 - 0s - loss: 0.0021 - 235ms/epoch - 3ms/step\n",
      "Epoch 36/100\n",
      "94/94 - 0s - loss: 0.0020 - 266ms/epoch - 3ms/step\n",
      "Epoch 37/100\n",
      "94/94 - 0s - loss: 0.0020 - 284ms/epoch - 3ms/step\n",
      "Epoch 38/100\n",
      "94/94 - 0s - loss: 0.0020 - 260ms/epoch - 3ms/step\n",
      "Epoch 39/100\n",
      "94/94 - 0s - loss: 0.0020 - 273ms/epoch - 3ms/step\n",
      "Epoch 40/100\n",
      "94/94 - 0s - loss: 0.0020 - 275ms/epoch - 3ms/step\n",
      "Epoch 41/100\n",
      "94/94 - 0s - loss: 0.0020 - 276ms/epoch - 3ms/step\n",
      "Epoch 42/100\n",
      "94/94 - 0s - loss: 0.0020 - 275ms/epoch - 3ms/step\n",
      "Epoch 43/100\n",
      "94/94 - 0s - loss: 0.0020 - 283ms/epoch - 3ms/step\n",
      "Epoch 44/100\n",
      "94/94 - 0s - loss: 0.0020 - 276ms/epoch - 3ms/step\n",
      "Epoch 45/100\n",
      "94/94 - 0s - loss: 0.0020 - 284ms/epoch - 3ms/step\n",
      "Epoch 46/100\n",
      "94/94 - 0s - loss: 0.0020 - 274ms/epoch - 3ms/step\n",
      "Epoch 47/100\n",
      "94/94 - 0s - loss: 0.0020 - 283ms/epoch - 3ms/step\n",
      "Epoch 48/100\n",
      "94/94 - 0s - loss: 0.0020 - 283ms/epoch - 3ms/step\n",
      "Epoch 49/100\n",
      "94/94 - 0s - loss: 0.0020 - 284ms/epoch - 3ms/step\n",
      "Epoch 50/100\n",
      "94/94 - 0s - loss: 0.0019 - 303ms/epoch - 3ms/step\n",
      "Epoch 51/100\n",
      "94/94 - 0s - loss: 0.0021 - 289ms/epoch - 3ms/step\n",
      "Epoch 52/100\n",
      "94/94 - 0s - loss: 0.0020 - 247ms/epoch - 3ms/step\n",
      "Epoch 53/100\n",
      "94/94 - 0s - loss: 0.0020 - 251ms/epoch - 3ms/step\n",
      "Epoch 54/100\n",
      "94/94 - 0s - loss: 0.0020 - 293ms/epoch - 3ms/step\n",
      "Epoch 55/100\n",
      "94/94 - 0s - loss: 0.0020 - 299ms/epoch - 3ms/step\n",
      "Epoch 56/100\n",
      "94/94 - 0s - loss: 0.0020 - 268ms/epoch - 3ms/step\n",
      "Epoch 57/100\n",
      "94/94 - 0s - loss: 0.0020 - 273ms/epoch - 3ms/step\n",
      "Epoch 58/100\n",
      "94/94 - 0s - loss: 0.0020 - 292ms/epoch - 3ms/step\n",
      "Epoch 59/100\n",
      "94/94 - 0s - loss: 0.0021 - 285ms/epoch - 3ms/step\n",
      "Epoch 60/100\n",
      "94/94 - 0s - loss: 0.0020 - 276ms/epoch - 3ms/step\n",
      "Epoch 61/100\n",
      "94/94 - 0s - loss: 0.0020 - 266ms/epoch - 3ms/step\n",
      "Epoch 62/100\n",
      "94/94 - 0s - loss: 0.0020 - 275ms/epoch - 3ms/step\n",
      "Epoch 63/100\n",
      "94/94 - 0s - loss: 0.0020 - 279ms/epoch - 3ms/step\n",
      "Epoch 64/100\n",
      "94/94 - 0s - loss: 0.0020 - 279ms/epoch - 3ms/step\n",
      "Epoch 65/100\n",
      "94/94 - 0s - loss: 0.0021 - 283ms/epoch - 3ms/step\n",
      "Epoch 66/100\n",
      "94/94 - 0s - loss: 0.0020 - 275ms/epoch - 3ms/step\n",
      "Epoch 67/100\n",
      "94/94 - 0s - loss: 0.0020 - 287ms/epoch - 3ms/step\n",
      "Epoch 68/100\n",
      "94/94 - 0s - loss: 0.0021 - 287ms/epoch - 3ms/step\n",
      "Epoch 69/100\n",
      "94/94 - 0s - loss: 0.0020 - 286ms/epoch - 3ms/step\n",
      "Epoch 70/100\n",
      "94/94 - 0s - loss: 0.0019 - 263ms/epoch - 3ms/step\n",
      "Epoch 71/100\n",
      "94/94 - 0s - loss: 0.0020 - 282ms/epoch - 3ms/step\n",
      "Epoch 72/100\n",
      "94/94 - 0s - loss: 0.0021 - 278ms/epoch - 3ms/step\n",
      "Epoch 73/100\n",
      "94/94 - 0s - loss: 0.0020 - 282ms/epoch - 3ms/step\n",
      "Epoch 74/100\n",
      "94/94 - 0s - loss: 0.0020 - 275ms/epoch - 3ms/step\n",
      "Epoch 75/100\n",
      "94/94 - 0s - loss: 0.0020 - 293ms/epoch - 3ms/step\n",
      "Epoch 76/100\n",
      "94/94 - 0s - loss: 0.0020 - 255ms/epoch - 3ms/step\n",
      "Epoch 77/100\n",
      "94/94 - 0s - loss: 0.0020 - 251ms/epoch - 3ms/step\n",
      "Epoch 78/100\n",
      "94/94 - 0s - loss: 0.0020 - 273ms/epoch - 3ms/step\n",
      "Epoch 79/100\n",
      "94/94 - 0s - loss: 0.0020 - 269ms/epoch - 3ms/step\n",
      "Epoch 80/100\n",
      "94/94 - 0s - loss: 0.0020 - 284ms/epoch - 3ms/step\n",
      "Epoch 81/100\n",
      "94/94 - 0s - loss: 0.0020 - 277ms/epoch - 3ms/step\n",
      "Epoch 82/100\n",
      "94/94 - 0s - loss: 0.0020 - 284ms/epoch - 3ms/step\n",
      "Epoch 83/100\n",
      "94/94 - 0s - loss: 0.0021 - 265ms/epoch - 3ms/step\n",
      "Epoch 84/100\n",
      "94/94 - 0s - loss: 0.0020 - 269ms/epoch - 3ms/step\n",
      "Epoch 85/100\n",
      "94/94 - 0s - loss: 0.0020 - 286ms/epoch - 3ms/step\n",
      "Epoch 86/100\n",
      "94/94 - 0s - loss: 0.0020 - 241ms/epoch - 3ms/step\n",
      "Epoch 87/100\n",
      "94/94 - 0s - loss: 0.0020 - 265ms/epoch - 3ms/step\n",
      "Epoch 88/100\n",
      "94/94 - 0s - loss: 0.0020 - 238ms/epoch - 3ms/step\n",
      "Epoch 89/100\n",
      "94/94 - 0s - loss: 0.0020 - 257ms/epoch - 3ms/step\n",
      "Epoch 90/100\n",
      "94/94 - 0s - loss: 0.0021 - 258ms/epoch - 3ms/step\n",
      "Epoch 91/100\n",
      "94/94 - 0s - loss: 0.0020 - 265ms/epoch - 3ms/step\n",
      "Epoch 92/100\n",
      "94/94 - 0s - loss: 0.0021 - 259ms/epoch - 3ms/step\n",
      "Epoch 93/100\n",
      "94/94 - 0s - loss: 0.0020 - 267ms/epoch - 3ms/step\n",
      "Epoch 94/100\n",
      "94/94 - 0s - loss: 0.0020 - 262ms/epoch - 3ms/step\n",
      "Epoch 95/100\n",
      "94/94 - 0s - loss: 0.0021 - 267ms/epoch - 3ms/step\n",
      "Epoch 96/100\n",
      "94/94 - 0s - loss: 0.0020 - 245ms/epoch - 3ms/step\n",
      "Epoch 97/100\n",
      "94/94 - 0s - loss: 0.0020 - 250ms/epoch - 3ms/step\n",
      "Epoch 98/100\n",
      "94/94 - 0s - loss: 0.0020 - 251ms/epoch - 3ms/step\n",
      "Epoch 99/100\n",
      "94/94 - 0s - loss: 0.0020 - 249ms/epoch - 3ms/step\n",
      "Epoch 100/100\n",
      "94/94 - 0s - loss: 0.0020 - 241ms/epoch - 3ms/step\n"
     ]
    },
    {
     "data": {
      "text/plain": [
       "<keras.callbacks.History at 0x21bcceada30>"
      ]
     },
     "execution_count": 23,
     "metadata": {},
     "output_type": "execute_result"
    }
   ],
   "source": [
    "# Complete: create a sequential model\n",
    "# Complete: create a LSTM layer\n",
    "# Complete: create a Dense layer\n",
    "model = Sequential()\n",
    "model.add(LSTM(4, input_shape=(1, look_back)))\n",
    "model.add(Dense(1))\n",
    "model.compile(loss='mean_squared_error', optimizer='adam')\n",
    "model.fit(trainX, trainY, epochs=100, batch_size=1, verbose=2)\n"
   ]
  },
  {
   "cell_type": "markdown",
   "metadata": {
    "colab_type": "text",
    "id": "iq4BkeO2D1V9"
   },
   "source": [
    "Next complile and fit the model. The network is trained for 100 epochs and a batch size of 1 is used.\n",
    "regressor=Sequential()\n",
    "\n",
    "regressor.add(SimpleRNN(units=100,activation=\"relu\",return_sequences=True\n",
    "                        ,input_shape=(X_train.shape[1],1)))\n",
    "regressor.add(Dropout(0.05))\n",
    "\n",
    "regressor.add(SimpleRNN(units=75,activation=\"relu\",return_sequences=True\n",
    "                        ,input_shape=(X_train.shape[1],1)))\n",
    "regressor.add(Dropout(0.2))\n",
    "\n",
    "regressor.add(SimpleRNN(units=50))\n",
    "regressor.add(Dropout(0.2))\n",
    "\n",
    "regressor.add(Dense(units=1))\n",
    "\n",
    "regressor.compile(optimizer=\"adam\",loss=\"mean_squared_error\")\n",
    "\n",
    "regressor.fit(X_train,y_train,epochs=200,batch_size=30)"
   ]
  },
  {
   "cell_type": "code",
   "execution_count": 6,
   "metadata": {
    "colab": {},
    "colab_type": "code",
    "id": "FafYD1PxD1V-"
   },
   "outputs": [],
   "source": [
    "# Complete: Compile the model\n",
    "# Complete: Fit the model\n",
    "# make predictions\n",
    "trainPredict = model.predict(trainX)\n",
    "testPredict = model.predict(testX)\n",
    "# invert predictions\n",
    "trainPredict = scaler.inverse_transform(trainPredict)\n",
    "trainY = scaler.inverse_transform([trainY])\n",
    "testPredict = scaler.inverse_transform(testPredict)\n",
    "testY = scaler.inverse_transform([testY])\n",
    "# calculate root mean squared error\n",
    "trainScore = np.sqrt(mean_squared_error(trainY[0], trainPredict[:,0]))\n",
    "print('Train Score: %.2f RMSE' % (trainScore))\n",
    "testScore = np.sqrt(mean_squared_error(testY[0], testPredict[:,0]))\n",
    "print('Test Score: %.2f RMSE' % (testScore))\n",
    "# shift train predictions for plotting\n",
    "trainPredictPlot = np.empty_like(dataset)\n",
    "trainPredictPlot[:, :] = np.nan\n",
    "trainPredictPlot[look_back:len(trainPredict)+look_back, :] = trainPredict\n",
    "# shift test predictions for plotting\n",
    "testPredictPlot = np.empty_like(dataset)\n",
    "testPredictPlot[:, :] = np.nan\n",
    "testPredictPlot[len(trainPredict)+(look_back*2)+1:len(dataset)-1, :] = testPredict\n",
    "# plot baseline and predictions\n",
    "plt.plot(scaler.inverse_transform(dataset))\n",
    "plt.plot(trainPredictPlot)\n",
    "plt.plot(testPredictPlot)\n",
    "plt.show()"
   ]
  },
  {
   "cell_type": "markdown",
   "metadata": {
    "colab_type": "text",
    "id": "26p_v-mjD1WB"
   },
   "source": [
    "Once the model is fit, we can estimate the performance of the model on the train and test datasets. This will give us a point of comparison for new models.\n",
    "\n",
    "Note that we invert the predictions before calculating error scores to ensure that performance is reported in the same units as the original data (thousands of passengers per month)."
   ]
  },
  {
   "cell_type": "code",
   "execution_count": 29,
   "metadata": {
    "colab": {},
    "colab_type": "code",
    "id": "J1gwbMRJD1WD",
    "outputId": "de1e2df4-59e0-4be8-c2eb-ccbe78ecb9b5"
   },
   "outputs": [
    {
     "name": "stdout",
     "output_type": "stream",
     "text": [
      "3/3 [==============================] - 1s 0s/step\n",
      "2/2 [==============================] - 0s 0s/step\n",
      "Train Score: 22.73 RMSE\n",
      "Test Score: 49.02 RMSE\n"
     ]
    }
   ],
   "source": [
    "# make predictions\n",
    "trainPredict = model.predict(trainX)\n",
    "testPredict = model.predict(testX)\n",
    "# invert predictions\n",
    "trainPredict = scaler.inverse_transform(trainPredict)\n",
    "trainY = scaler.inverse_transform([trainY])\n",
    "testPredict = scaler.inverse_transform(testPredict)\n",
    "testY = scaler.inverse_transform([testY])\n",
    "# calculate root mean squared error\n",
    "trainScore = math.sqrt(mean_squared_error(trainY[0], trainPredict[:,0]))\n",
    "print('Train Score: %.2f RMSE' % (trainScore))\n",
    "testScore = math.sqrt(mean_squared_error(testY[0], testPredict[:,0]))\n",
    "print('Test Score: %.2f RMSE' % (testScore))"
   ]
  },
  {
   "cell_type": "markdown",
   "metadata": {
    "colab_type": "text",
    "id": "qSVz1FSXD1WH"
   },
   "source": [
    "Finally, we can generate predictions using the model for both the train and test dataset to get a visual indication of the skill of the model.\n",
    "\n",
    "Because of how the dataset was prepared, we must shift the predictions so that they align on the x-axis with the original dataset. Once prepared, the data is plotted, showing the original dataset in blue, the predictions for the training dataset in green, and the predictions on the unseen test dataset in red."
   ]
  },
  {
   "cell_type": "code",
   "execution_count": 31,
   "metadata": {
    "colab": {},
    "colab_type": "code",
    "id": "83IgA45VD1WH",
    "outputId": "53f21678-734a-455c-d285-d84b2285c36c"
   },
   "outputs": [
    {
     "data": {
      "image/png": "[encoded data removed]",
      "text/plain": [
       "<Figure size 432x288 with 1 Axes>"
      ]
     },
     "metadata": {
      "needs_background": "light"
     },
     "output_type": "display_data"
    }
   ],
   "source": [
    "# shift train predictions for plotting\n",
    "trainPredictPlot = numpy.empty_like(dataset)\n",
    "trainPredictPlot[:, :] = numpy.nan\n",
    "trainPredictPlot[look_back:len(trainPredict)+look_back, :] = trainPredict\n",
    "# shift test predictions for plotting\n",
    "testPredictPlot = numpy.empty_like(dataset)\n",
    "testPredictPlot[:, :] = numpy.nan\n",
    "testPredictPlot[len(trainPredict)+(look_back*2)+1:len(dataset)-1, :] = testPredict\n",
    "# Complete: Plot baseline and predictions\n",
    "plt.plot(scaler.inverse_transform(dataset))\n",
    "plt.plot(trainPredictPlot)\n",
    "plt.plot(testPredictPlot)\n",
    "plt.show()"
   ]
  },
  {
   "cell_type": "markdown",
   "metadata": {
    "colab_type": "text",
    "id": "IBPijESTD1WK"
   },
   "source": [
    "We can see that the model did an excellent job of fitting both the training and the test datasets."
   ]
  },
  {
   "cell_type": "code",
   "execution_count": null,
   "metadata": {
    "colab": {},
    "colab_type": "code",
    "id": "eCiIqHg3D1WK"
   },
   "outputs": [],
   "source": []
  }
 ],
 "metadata": {
  "colab": {
   "name": "rnn_task.ipynb",
   "provenance": [],
   "version": "0.3.2"
  },
  "kernelspec": {
   "display_name": "Python 3.9.12",
   "language": "python",
   "name": "python3"
  },
  "language_info": {
   "codemirror_mode": {
    "name": "ipython",
    "version": 3
   },
   "file_extension": ".py",
   "mimetype": "text/x-python",
   "name": "python",
   "nbconvert_exporter": "python",
   "pygments_lexer": "ipython3",
   "version": "3.9.12"
  },
  "vscode": {
   "interpreter": {
    "hash": "206b59f5f23ff285c2c25432e996de4d165ed5f05a68cf20294d6688d5734d01"
   }
  }
 },
 "nbformat": 4,
 "nbformat_minor": 1
}
